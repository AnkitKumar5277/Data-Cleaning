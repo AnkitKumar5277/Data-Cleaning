{
 "cells": [
  {
   "cell_type": "code",
   "execution_count": null,
   "id": "e096badb-f895-4cce-a792-6c67a353ff09",
   "metadata": {},
   "outputs": [],
   "source": [
    "import pandas as pd\n",
    "pd.read_csv(\"weather_data.csv\")\n",
    "# Is line ka matlab hai: hum pandas library ka use karke \"weather_data.csv\" file ko read kar rahe hain aur usse ek table (DataFrame) me convert kar rahe hain."
   ]
  },
  {
   "cell_type": "code",
   "execution_count": null,
   "id": "86e6175b-ab44-4f8b-884c-75a273b14093",
   "metadata": {},
   "outputs": [],
   "source": [
    "df = pd.read_excel(\"weather_data.xlsx\",\"Sheet1\")\n",
    "df\n",
    "# Ye line Excel file ke \"Sheet1\" ka data read karke usse DataFrame me store karti hai aur df likhne par us data ko dikhati hai."
   ]
  },
  {
   "cell_type": "code",
   "execution_count": null,
   "id": "d4d3f941-64a7-4e5d-9569-4d2abf403d9b",
   "metadata": {},
   "outputs": [],
   "source": [
    "weather_data = {\n",
    "    'day': ['1/1/2017', '1/2/2017', '1/3/2017'],\n",
    "    'temperature': [32, 35, 28],\n",
    "    'event': ['Rain', 'Sunny', 'Snow']\n",
    "}\n",
    "df = pd.DataFrame(weather_data)\n",
    "df\n",
    "# Pehli line me humne ek dictionary banayi jisme day, temperature aur event ka data store kiya hai. Dusri line me us dictionary ko pandas DataFrame me convert karke df me store kiya, jo table ki tarah data ko show karega."
   ]
  },
  {
   "cell_type": "code",
   "execution_count": null,
   "id": "b783b06a-a87c-4585-9ffb-6b996c5eb40d",
   "metadata": {},
   "outputs": [],
   "source": [
    "weather_data = [\n",
    "    ('1/1/2017', 32, 6, 'Rain'), \n",
    "    ('1/2/2017', 35, 7, 'Sunny'),\n",
    "    ('1/3/2017', 28, 2, 'Snow')\n",
    "]\n",
    "df = pd.DataFrame(weather_data, columns=[\"day\",\"temperature\", \"windspeed\", \"event\"])\n",
    "df\n",
    "# Is code me pehle humne ek list of tuples banayi jisme har row ka data diya gaya hai (day, temperature, windspeed, event). Phir us data ko pandas DataFrame me convert karke column names assign kiye aur df likhne par table format me data show hoga."
   ]
  },
  {
   "cell_type": "code",
   "execution_count": null,
   "id": "e32115b6-6755-4db9-9e7b-331a38598f8f",
   "metadata": {},
   "outputs": [],
   "source": [
    "weather_data = [\n",
    "    {'day': '1/1/2017', 'temperature': 32, 'windspeed': 6, 'event': 'Rain'},\n",
    "    {'day': '1/2/2017', 'temperature': 35, 'windspeed': 7, 'event': 'Sunny'},\n",
    "    {'day': '1/3/2017', 'temperature': 28, 'windspeed': 2, 'event': 'Snow'},\n",
    "]\n",
    "df = pd.DataFrame(weather_data)\n",
    "df\n",
    "# Is code me pehle humne ek list of dictionaries banayi jisme har row ka data key-value pair me store hai. Phir us list ko DataFrame me convert karke df me store kiya, jo table ki form me data show karega."
   ]
  }
 ],
 "metadata": {
  "kernelspec": {
   "display_name": "Python 3 (ipykernel)",
   "language": "python",
   "name": "python3"
  },
  "language_info": {
   "codemirror_mode": {
    "name": "ipython",
    "version": 3
   },
   "file_extension": ".py",
   "mimetype": "text/x-python",
   "name": "python",
   "nbconvert_exporter": "python",
   "pygments_lexer": "ipython3",
   "version": "3.12.4"
  }
 },
 "nbformat": 4,
 "nbformat_minor": 5
}
